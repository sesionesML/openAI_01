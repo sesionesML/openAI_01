{
 "cells": [
  {
   "attachments": {},
   "cell_type": "markdown",
   "metadata": {},
   "source": [
    "### **AGENDA** ###"
   ]
  },
  {
   "attachments": {},
   "cell_type": "markdown",
   "metadata": {},
   "source": [
    "___"
   ]
  },
  {
   "attachments": {},
   "cell_type": "markdown",
   "metadata": {},
   "source": [
    "### 1. Plataforma OpenaAI\n",
    "\n",
    "* Documentación https://platform.openai.com/docs/quickstart\n",
    "* Playground\n"
   ]
  },
  {
   "attachments": {},
   "cell_type": "markdown",
   "metadata": {},
   "source": [
    "##### 1.1 Carga de librerias"
   ]
  },
  {
   "cell_type": "code",
   "execution_count": 1,
   "metadata": {},
   "outputs": [],
   "source": [
    "#!pip install openai\n",
    "import openai\n",
    "import simplejson as js"
   ]
  },
  {
   "cell_type": "code",
   "execution_count": 5,
   "metadata": {},
   "outputs": [],
   "source": [
    "fileReading = open('codeBlocks/access.json' , 'rb' )\n",
    "credentials = js.load(fileReading)\n",
    "fileReading.close()\n",
    "\n",
    "key = credentials.get('key')"
   ]
  },
  {
   "cell_type": "code",
   "execution_count": 6,
   "metadata": {},
   "outputs": [],
   "source": [
    "openai.api_key = key\n",
    "\n",
    "text = \"\"\" Porque es bueno usar un control de versiones en \n",
    "el codigo de un proyecto ML?\n",
    "\"\"\""
   ]
  },
  {
   "cell_type": "code",
   "execution_count": 7,
   "metadata": {},
   "outputs": [],
   "source": [
    "response = openai.Completion.create(\n",
    "  model=\"text-davinci-003\",\n",
    "  prompt=text,\n",
    "  temperature=0.7,\n",
    "  max_tokens=256,\n",
    "  top_p=1,\n",
    "  frequency_penalty=0,\n",
    "  presence_penalty=0\n",
    ")"
   ]
  },
  {
   "cell_type": "code",
   "execution_count": 8,
   "metadata": {},
   "outputs": [
    {
     "data": {
      "text/plain": [
       "<OpenAIObject text_completion id=cmpl-6xO18A7pJs4CgPZkNsAug2j9vLb2e at 0x185ff8b9270> JSON: {\n",
       "  \"choices\": [\n",
       "    {\n",
       "      \"finish_reason\": \"stop\",\n",
       "      \"index\": 0,\n",
       "      \"logprobs\": null,\n",
       "      \"text\": \"\\nUn control de versiones es una herramienta muy \\u00fatil para el desarrollo de proyectos de aprendizaje autom\\u00e1tico. Esto ayuda a garantizar que los cambios realizados en el c\\u00f3digo sean seguros y controlados. Esto significa que puede rastrear los cambios realizados al c\\u00f3digo y volver a versiones anteriores si algo sale mal. Tambi\\u00e9n facilita la colaboraci\\u00f3n entre los miembros del equipo ya que pueden ver qui\\u00e9n ha hecho qu\\u00e9 cambios. Finalmente, un control de versiones tambi\\u00e9n permite el control de la configuraci\\u00f3n del sistema, lo que garantiza que todos los miembros del equipo est\\u00e9n trabajando con la misma versi\\u00f3n de todos los componentes del proyecto.\"\n",
       "    }\n",
       "  ],\n",
       "  \"created\": 1679611694,\n",
       "  \"id\": \"cmpl-6xO18A7pJs4CgPZkNsAug2j9vLb2e\",\n",
       "  \"model\": \"text-davinci-003\",\n",
       "  \"object\": \"text_completion\",\n",
       "  \"usage\": {\n",
       "    \"completion_tokens\": 219,\n",
       "    \"prompt_tokens\": 27,\n",
       "    \"total_tokens\": 246\n",
       "  }\n",
       "}"
      ]
     },
     "execution_count": 8,
     "metadata": {},
     "output_type": "execute_result"
    }
   ],
   "source": [
    "response"
   ]
  },
  {
   "cell_type": "code",
   "execution_count": 9,
   "metadata": {},
   "outputs": [
    {
     "data": {
      "text/plain": [
       "'\\nUn control de versiones es una herramienta muy útil para el desarrollo de proyectos de aprendizaje automático. Esto ayuda a garantizar que los cambios realizados en el código sean seguros y controlados. Esto significa que puede rastrear los cambios realizados al código y volver a versiones anteriores si algo sale mal. También facilita la colaboración entre los miembros del equipo ya que pueden ver quién ha hecho qué cambios. Finalmente, un control de versiones también permite el control de la configuración del sistema, lo que garantiza que todos los miembros del equipo estén trabajando con la misma versión de todos los componentes del proyecto.'"
      ]
     },
     "execution_count": 9,
     "metadata": {},
     "output_type": "execute_result"
    }
   ],
   "source": [
    "response.choices[0].text"
   ]
  },
  {
   "attachments": {},
   "cell_type": "markdown",
   "metadata": {},
   "source": [
    "___"
   ]
  },
  {
   "cell_type": "code",
   "execution_count": 10,
   "metadata": {},
   "outputs": [
    {
     "data": {
      "text/plain": [
       "'\\nUn entorno virtual venv es una herramienta útil para desarrolladores de ML ya que proporciona un entorno aislado para el desarrollo de cada proyecto. Esto permite a cada proyecto tener su propio conjunto de dependencias y librerías específicas, lo que facilita el mantenimiento y el desarrollo. Además, los entornos virtuales ayudan a prevenir conflictos entre diferentes versiones de librerías y dependencias. Si bien los entornos virtuales venv no son necesarios para desarrollar un proyecto de ML, pueden ser una herramienta útil para asegurar que los proyectos sean más estables y fáciles de mantener.'"
      ]
     },
     "execution_count": 10,
     "metadata": {},
     "output_type": "execute_result"
    }
   ],
   "source": [
    "text = \"\"\" Porque es bueno usar un entorno virtual venv al iniciar un \n",
    "proyecto de ML\n",
    "\"\"\"\n",
    "\n",
    "response = openai.Completion.create(\n",
    "  model=\"text-davinci-003\",\n",
    "  prompt=text,\n",
    "  temperature=0.7,\n",
    "  max_tokens=256,\n",
    "  top_p=1,\n",
    "  frequency_penalty=0,\n",
    "  presence_penalty=0\n",
    ")\n",
    "\n",
    "response.choices[0].text"
   ]
  },
  {
   "cell_type": "code",
   "execution_count": 13,
   "metadata": {},
   "outputs": [
    {
     "data": {
      "text/plain": [
       "'\\n1. Realice una copia de seguridad de su base de datos Oracle actual.\\n2. Configure una conexión entre su base de datos Oracle y Azure SQL usando Oracle Data Integrator (ODI).\\n3. Utilice ODI para mover los datos de Oracle a Azure SQL.\\n4. Cree una nueva conexión entre Oracle y Azure SQL.\\n5. Utilice ODI para transferir todos los objetos de Oracle a Azure SQL, como tablas, índices y vistas.\\n6. Utilice ODI para transferir todos los procedimientos almacenados de Oracle a Azure SQL.\\n7. Realice pruebas para verificar el correcto funcionamiento de los procedimientos almacenados migrados a Azure SQL.\\n8. Desactive la conexión entre Oracle y Azure SQL para evitar cualquier problema de seguridad.'"
      ]
     },
     "execution_count": 13,
     "metadata": {},
     "output_type": "execute_result"
    }
   ],
   "source": [
    "text = \"\"\" Cuales son los pasos para una migración de oracle y ODI\n",
    "a azure SQL con todo y stored procedures\n",
    "\"\"\"\n",
    "\n",
    "response = openai.Completion.create(\n",
    "  model=\"text-davinci-003\",\n",
    "  prompt=text,\n",
    "  temperature=0.7,\n",
    "  max_tokens=256,\n",
    "  top_p=1,\n",
    "  frequency_penalty=0,\n",
    "  presence_penalty=0\n",
    ")\n",
    "\n",
    "response.choices[0].text"
   ]
  },
  {
   "cell_type": "code",
   "execution_count": 14,
   "metadata": {},
   "outputs": [
    {
     "data": {
      "text/plain": [
       "'\\nPara realizar una copia de seguridad de una base de datos Oracle, hay varias opciones disponibles. Una de ellas es utilizar el comando expdp (Export Database). Este comando genera un archivo de exportación que contiene toda la información necesaria para restaurar la base de datos, como tablas, índices, vistas, procedimientos almacenados, etc.\\n\\nOtra opción es utilizar el comando RMAN (Recovery Manager). Este comando permite crear una copia de seguridad completa de la base de datos, incluyendo todos los archivos de datos, archivos de control y archivos de red. Esta copia de seguridad se puede almacenar en un disco local o en un servidor remoto.\\n\\nAdemás, Oracle también ofrece una herramienta de copia de seguridad denominada Data Pump, que es una alternativa a expdp. Esta'"
      ]
     },
     "execution_count": 14,
     "metadata": {},
     "output_type": "execute_result"
    }
   ],
   "source": [
    "text = \"\"\" ¿Como realizar una copia de seguridad de su base de datos Oracle?\n",
    "\"\"\"\n",
    "\n",
    "response = openai.Completion.create(\n",
    "  model=\"text-davinci-003\",\n",
    "  prompt=text,\n",
    "  temperature=0.7,\n",
    "  max_tokens=256,\n",
    "  top_p=1,\n",
    "  frequency_penalty=0,\n",
    "  presence_penalty=0\n",
    ")\n",
    "\n",
    "response.choices[0].text"
   ]
  },
  {
   "cell_type": "code",
   "execution_count": 15,
   "metadata": {},
   "outputs": [],
   "source": [
    "with open('codeBlocks/chatHistory.txt', 'a') as file:\n",
    "    file.write(response.choices[0].text + '\\n'+ '-'*15)"
   ]
  },
  {
   "cell_type": "code",
   "execution_count": 17,
   "metadata": {},
   "outputs": [
    {
     "data": {
      "text/plain": [
       "'\\nPara guardar texto con acentos usando el método write() de Python, es necesario especificar el parámetro de codificación. Esto se hará de la siguiente manera:\\n\\n```\\nwith open(\"archivo.txt\", \"w\", encoding=\"utf8\") as archivo:\\n    archivo.write(\"Mi texto con acentos\")\\n```'"
      ]
     },
     "execution_count": 17,
     "metadata": {},
     "output_type": "execute_result"
    }
   ],
   "source": [
    "text = \"\"\" ¿Como salvo con write texto que tenga acentos? \n",
    "De momento salen caracteres raros. Muestrame el codigo\n",
    "\"\"\"\n",
    "\n",
    "response = openai.Completion.create(\n",
    "  model=\"text-davinci-003\",\n",
    "  prompt=text,\n",
    "  temperature=0.7,\n",
    "  max_tokens=256,\n",
    "  top_p=1,\n",
    "  frequency_penalty=0,\n",
    "  presence_penalty=0\n",
    ")\n",
    "\n",
    "response.choices[0].text"
   ]
  },
  {
   "cell_type": "code",
   "execution_count": 18,
   "metadata": {},
   "outputs": [],
   "source": [
    "with open('codeBlocks/chatHistory.txt', 'a', encoding=\"utf8\") as file:\n",
    "    file.write(response.choices[0].text + '\\n'+ '-'*15)"
   ]
  },
  {
   "attachments": {},
   "cell_type": "markdown",
   "metadata": {},
   "source": [
    "### 2. Entorno de desarollo\n",
    "* venv\n",
    "* git"
   ]
  },
  {
   "attachments": {},
   "cell_type": "markdown",
   "metadata": {},
   "source": [
    "##### 2.1 Creación del entorno virtual\n",
    "> python -m venv nombreEntorno\n",
    "\n",
    "Se activa con la intrucción\n",
    "> nombreEntorno/scripts/activate"
   ]
  },
  {
   "attachments": {},
   "cell_type": "markdown",
   "metadata": {},
   "source": [
    "##### 2.2 Creación del control de versiones con git\n",
    "\n",
    "Sentencia de creación\n",
    "> git init\n",
    "\n"
   ]
  },
  {
   "attachments": {},
   "cell_type": "markdown",
   "metadata": {},
   "source": [
    "### 3. Cuaderno de Jupyter\n",
    "* Cargar credenciales\n",
    "* Contruir peticiones\n",
    "* Almacenar las consultas"
   ]
  },
  {
   "attachments": {},
   "cell_type": "markdown",
   "metadata": {},
   "source": [
    "### 4. Refactorización del código\n",
    "* Mejora de codigo\n",
    "* Estructura funcional\n"
   ]
  },
  {
   "cell_type": "code",
   "execution_count": 2,
   "metadata": {},
   "outputs": [],
   "source": [
    "import openai\n",
    "import simplejson as js\n",
    "from rich import print as rprint"
   ]
  },
  {
   "cell_type": "code",
   "execution_count": 3,
   "metadata": {},
   "outputs": [],
   "source": [
    "def getAccess():\n",
    "    fileReading = open('codeBlocks/access.json' , 'rb' )\n",
    "    credentials = js.load(fileReading)\n",
    "    fileReading.close()\n",
    "\n",
    "    return (credentials.get('key'))\n"
   ]
  },
  {
   "cell_type": "code",
   "execution_count": 15,
   "metadata": {},
   "outputs": [],
   "source": [
    "def save(text, path = 'codeBlocks/chatHistory.txt'):\n",
    "    with open(path, 'a', encoding=\"utf8\") as file:\n",
    "        file.write(text + '\\n'+ '-'*15)\n",
    "    print(\"Fue exitoso el registro!\")"
   ]
  },
  {
   "cell_type": "code",
   "execution_count": 6,
   "metadata": {},
   "outputs": [],
   "source": [
    "def call(input, engine = 'text-davinci-003', stored = False):\n",
    "    openai.api_key = getAccess()\n",
    "\n",
    "    response = openai.Completion.create(\n",
    "        model= engine,\n",
    "        #getContext()\n",
    "        prompt=input,\n",
    "        temperature=0.6,\n",
    "        max_tokens = 256,\n",
    "        top_p=1,\n",
    "        frequency_penalty=0,\n",
    "        presence_penalty=0\n",
    "    )\n",
    "    response = response.choices[0].text\n",
    "    if stored: save(response)\n",
    "    return (response)"
   ]
  },
  {
   "cell_type": "code",
   "execution_count": 7,
   "metadata": {},
   "outputs": [
    {
     "data": {
      "text/plain": [
       "'\\n\\nPara hacer un append con write a un archivo de texto plano en Python, puedes usar el método open() con el modo \"a\" para abrir el archivo y el método write() para escribir en él. Por ejemplo:\\n\\nwith open(\\'myfile.txt\\', \\'a\\') as f:\\n    f.write(\\'This is a new line of text\\\\n\\')'"
      ]
     },
     "execution_count": 7,
     "metadata": {},
     "output_type": "execute_result"
    }
   ],
   "source": [
    "call(\"Como hago un append con write en python a un archivo de texto plano\")"
   ]
  },
  {
   "cell_type": "code",
   "execution_count": 8,
   "metadata": {},
   "outputs": [
    {
     "data": {
      "text/plain": [
       "'\\n\\nPara usar rich en Python para visualizar el texto estilizado en la consola, primero debe instalar el paquete de rich. Puede hacerlo ejecutando el siguiente comando en su línea de comandos: \\n\\n`pip install rich`\\n\\nUna vez que haya instalado el paquete, puede usar el módulo de rich para estilizar su texto. Por ejemplo, para mostrar un texto en negrita, puede usar el siguiente código: \\n\\n`from rich import print\\n\\nprint(\"Hola Mundo!\", style=\"bold\")`\\n\\nEsto mostrará el texto \"Hola Mundo!\" en negrita en la consola.'"
      ]
     },
     "execution_count": 8,
     "metadata": {},
     "output_type": "execute_result"
    }
   ],
   "source": [
    "call(\"Como visualizar en la consola el texto de forma estilizada en python con rich\")"
   ]
  },
  {
   "cell_type": "code",
   "execution_count": 9,
   "metadata": {},
   "outputs": [
    {
     "name": "stdout",
     "output_type": "stream",
     "text": [
      "Collecting rich\n",
      "  Using cached rich-13.3.2-py3-none-any.whl (238 kB)\n",
      "Requirement already satisfied: pygments<3.0.0,>=2.13.0 in c:\\users\\saúlxicoténcatllópez\\documents\\python\\openai\\env\\lib\\site-packages (from rich) (2.14.0)\n",
      "Collecting markdown-it-py<3.0.0,>=2.2.0\n",
      "  Using cached markdown_it_py-2.2.0-py3-none-any.whl (84 kB)\n",
      "Collecting mdurl~=0.1\n",
      "  Using cached mdurl-0.1.2-py3-none-any.whl (10.0 kB)\n",
      "Installing collected packages: mdurl, markdown-it-py, rich\n",
      "Successfully installed markdown-it-py-2.2.0 mdurl-0.1.2 rich-13.3.2\n"
     ]
    },
    {
     "name": "stderr",
     "output_type": "stream",
     "text": [
      "WARNING: You are using pip version 22.0.4; however, version 23.0.1 is available.\n",
      "You should consider upgrading via the 'C:\\Users\\SaúlXicoténcatlLópez\\Documents\\python\\openAi\\env\\Scripts\\python.exe -m pip install --upgrade pip' command.\n"
     ]
    }
   ],
   "source": [
    "#!pip install rich"
   ]
  },
  {
   "cell_type": "code",
   "execution_count": 10,
   "metadata": {},
   "outputs": [],
   "source": [
    "from rich import print as rprint"
   ]
  },
  {
   "cell_type": "code",
   "execution_count": 11,
   "metadata": {},
   "outputs": [
    {
     "data": {
      "text/html": [
       "<pre style=\"white-space:pre;overflow-x:auto;line-height:normal;font-family:Menlo,'DejaVu Sans Mono',consolas,'Courier New',monospace\">\n",
       "\n",
       "No, no existe una función específica para mejorar la visualización del texto en la consola. Sin embargo, hay \n",
       "algunas cosas que puedes hacer para mejorar la apariencia. Por ejemplo, puedes usar colores para destacar palabras \n",
       "clave o usar tamaños de fuente diferentes para diferentes tipos de texto. También puedes agregar sangrías y saltos \n",
       "de línea para mejorar la legibilidad.\n",
       "</pre>\n"
      ],
      "text/plain": [
       "\n",
       "\n",
       "No, no existe una función específica para mejorar la visualización del texto en la consola. Sin embargo, hay \n",
       "algunas cosas que puedes hacer para mejorar la apariencia. Por ejemplo, puedes usar colores para destacar palabras \n",
       "clave o usar tamaños de fuente diferentes para diferentes tipos de texto. También puedes agregar sangrías y saltos \n",
       "de línea para mejorar la legibilidad.\n"
      ]
     },
     "metadata": {},
     "output_type": "display_data"
    }
   ],
   "source": [
    "rprint(call(\"Seguro que funcion rich para ver mejor el texto en consola?\"))"
   ]
  },
  {
   "cell_type": "code",
   "execution_count": 13,
   "metadata": {},
   "outputs": [
    {
     "data": {
      "text/html": [
       "<pre style=\"white-space:pre;overflow-x:auto;line-height:normal;font-family:Menlo,'DejaVu Sans Mono',consolas,'Courier New',monospace\">\n",
       "\n",
       "<span style=\"color: #008080; text-decoration-color: #008080; font-weight: bold\">1</span>. Para empezar, vaya al sitio web de Azure y cree una cuenta de Azure gratuita.\n",
       "\n",
       "<span style=\"color: #008080; text-decoration-color: #008080; font-weight: bold\">2</span>. Una vez creada la cuenta, inicie sesión en su portal de Azure.\n",
       "\n",
       "<span style=\"color: #008080; text-decoration-color: #008080; font-weight: bold\">3</span>. Desde el portal de Azure, vaya a la sección de recursos y seleccione la opción “Agregar recurso”.\n",
       "\n",
       "<span style=\"color: #008080; text-decoration-color: #008080; font-weight: bold\">4</span>. Busque y seleccione “Azure DevOps”.\n",
       "\n",
       "<span style=\"color: #008080; text-decoration-color: #008080; font-weight: bold\">5</span>. Seleccione la opción “Crear una nueva organización”.\n",
       "\n",
       "<span style=\"color: #008080; text-decoration-color: #008080; font-weight: bold\">6</span>. Introduzca un nombre de organización, un nombre de proyecto y una dirección de correo electrónico.\n",
       "\n",
       "<span style=\"color: #008080; text-decoration-color: #008080; font-weight: bold\">7</span>. Seleccione la opción “Aceptar términos y condiciones”.\n",
       "\n",
       "<span style=\"color: #008080; text-decoration-color: #008080; font-weight: bold\">8</span>. Seleccione la opción “Crear organización”.\n",
       "\n",
       "<span style=\"color: #008080; text-decoration-color: #008080; font-weight: bold\">9</span>. Una vez creada la organización,\n",
       "</pre>\n"
      ],
      "text/plain": [
       "\n",
       "\n",
       "\u001b[1;36m1\u001b[0m. Para empezar, vaya al sitio web de Azure y cree una cuenta de Azure gratuita.\n",
       "\n",
       "\u001b[1;36m2\u001b[0m. Una vez creada la cuenta, inicie sesión en su portal de Azure.\n",
       "\n",
       "\u001b[1;36m3\u001b[0m. Desde el portal de Azure, vaya a la sección de recursos y seleccione la opción “Agregar recurso”.\n",
       "\n",
       "\u001b[1;36m4\u001b[0m. Busque y seleccione “Azure DevOps”.\n",
       "\n",
       "\u001b[1;36m5\u001b[0m. Seleccione la opción “Crear una nueva organización”.\n",
       "\n",
       "\u001b[1;36m6\u001b[0m. Introduzca un nombre de organización, un nombre de proyecto y una dirección de correo electrónico.\n",
       "\n",
       "\u001b[1;36m7\u001b[0m. Seleccione la opción “Aceptar términos y condiciones”.\n",
       "\n",
       "\u001b[1;36m8\u001b[0m. Seleccione la opción “Crear organización”.\n",
       "\n",
       "\u001b[1;36m9\u001b[0m. Una vez creada la organización,\n"
      ]
     },
     "metadata": {},
     "output_type": "display_data"
    }
   ],
   "source": [
    "rprint(call(\"Muestrame los pasos, uno a uno, para crear una cuenta de devops de azure?\"))"
   ]
  },
  {
   "cell_type": "code",
   "execution_count": 14,
   "metadata": {},
   "outputs": [
    {
     "ename": "NameError",
     "evalue": "name 'response' is not defined",
     "output_type": "error",
     "traceback": [
      "\u001b[1;31m---------------------------------------------------------------------------\u001b[0m",
      "\u001b[1;31mNameError\u001b[0m                                 Traceback (most recent call last)",
      "Cell \u001b[1;32mIn[14], line 1\u001b[0m\n\u001b[1;32m----> 1\u001b[0m rprint(call(\u001b[39m\"\u001b[39;49m\u001b[39mQué es mejor devOps o Azure ML para ejecutar un projecto de machine learning a través de la metodología MlOps\u001b[39;49m\u001b[39m\"\u001b[39;49m, stored\u001b[39m=\u001b[39;49m\u001b[39mTrue\u001b[39;49;00m))\n",
      "Cell \u001b[1;32mIn[6], line 15\u001b[0m, in \u001b[0;36mcall\u001b[1;34m(input, engine, stored)\u001b[0m\n\u001b[0;32m      4\u001b[0m response \u001b[39m=\u001b[39m openai\u001b[39m.\u001b[39mCompletion\u001b[39m.\u001b[39mcreate(\n\u001b[0;32m      5\u001b[0m     model\u001b[39m=\u001b[39m engine,\n\u001b[0;32m      6\u001b[0m     \u001b[39m#getContext()\u001b[39;00m\n\u001b[1;32m   (...)\u001b[0m\n\u001b[0;32m     12\u001b[0m     presence_penalty\u001b[39m=\u001b[39m\u001b[39m0\u001b[39m\n\u001b[0;32m     13\u001b[0m )\n\u001b[0;32m     14\u001b[0m response \u001b[39m=\u001b[39m response\u001b[39m.\u001b[39mchoices[\u001b[39m0\u001b[39m]\u001b[39m.\u001b[39mtext\n\u001b[1;32m---> 15\u001b[0m \u001b[39mif\u001b[39;00m stored: save()\n\u001b[0;32m     16\u001b[0m \u001b[39mreturn\u001b[39;00m (response)\n",
      "Cell \u001b[1;32mIn[5], line 3\u001b[0m, in \u001b[0;36msave\u001b[1;34m(path)\u001b[0m\n\u001b[0;32m      1\u001b[0m \u001b[39mdef\u001b[39;00m \u001b[39msave\u001b[39m(path \u001b[39m=\u001b[39m \u001b[39m'\u001b[39m\u001b[39mcodeBlocks/chatHistory.txt\u001b[39m\u001b[39m'\u001b[39m):\n\u001b[0;32m      2\u001b[0m     \u001b[39mwith\u001b[39;00m \u001b[39mopen\u001b[39m(path, \u001b[39m'\u001b[39m\u001b[39ma\u001b[39m\u001b[39m'\u001b[39m, encoding\u001b[39m=\u001b[39m\u001b[39m\"\u001b[39m\u001b[39mutf8\u001b[39m\u001b[39m\"\u001b[39m) \u001b[39mas\u001b[39;00m file:\n\u001b[1;32m----> 3\u001b[0m         file\u001b[39m.\u001b[39mwrite(response\u001b[39m.\u001b[39mchoices[\u001b[39m0\u001b[39m]\u001b[39m.\u001b[39mtext \u001b[39m+\u001b[39m \u001b[39m'\u001b[39m\u001b[39m\\n\u001b[39;00m\u001b[39m'\u001b[39m\u001b[39m+\u001b[39m \u001b[39m'\u001b[39m\u001b[39m-\u001b[39m\u001b[39m'\u001b[39m\u001b[39m*\u001b[39m\u001b[39m15\u001b[39m)\n\u001b[0;32m      4\u001b[0m     \u001b[39mprint\u001b[39m(\u001b[39m\"\u001b[39m\u001b[39mFue exitoso el registro!\u001b[39m\u001b[39m\"\u001b[39m)\n",
      "\u001b[1;31mNameError\u001b[0m: name 'response' is not defined"
     ]
    }
   ],
   "source": [
    "rprint(call(\"Qué es mejor devOps o Azure ML para ejecutar un projecto de machine learning a través de la metodología MlOps\", stored=True))"
   ]
  },
  {
   "attachments": {},
   "cell_type": "markdown",
   "metadata": {},
   "source": [
    "### 5. Caso de uso\n",
    "* Servicio al cliente"
   ]
  }
 ],
 "metadata": {
  "kernelspec": {
   "display_name": "env",
   "language": "python",
   "name": "python3"
  },
  "language_info": {
   "codemirror_mode": {
    "name": "ipython",
    "version": 3
   },
   "file_extension": ".py",
   "mimetype": "text/x-python",
   "name": "python",
   "nbconvert_exporter": "python",
   "pygments_lexer": "ipython3",
   "version": "3.9.13"
  },
  "orig_nbformat": 4
 },
 "nbformat": 4,
 "nbformat_minor": 2
}
