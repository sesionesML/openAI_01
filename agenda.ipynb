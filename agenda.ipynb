{
 "cells": [
  {
   "attachments": {},
   "cell_type": "markdown",
   "metadata": {},
   "source": [
    "### **AGENDA** ###"
   ]
  },
  {
   "attachments": {},
   "cell_type": "markdown",
   "metadata": {},
   "source": [
    "___"
   ]
  },
  {
   "attachments": {},
   "cell_type": "markdown",
   "metadata": {},
   "source": [
    "### 1. Plataforma OpenaAI\n",
    "\n",
    "* Documentación https://platform.openai.com/docs/quickstart\n",
    "* Playground\n"
   ]
  },
  {
   "attachments": {},
   "cell_type": "markdown",
   "metadata": {},
   "source": [
    "##### 1.1 Carga de librerias"
   ]
  },
  {
   "cell_type": "code",
   "execution_count": 1,
   "metadata": {},
   "outputs": [],
   "source": [
    "#!pip install openai\n",
    "import openai\n",
    "import simplejson as js"
   ]
  },
  {
   "cell_type": "code",
   "execution_count": 5,
   "metadata": {},
   "outputs": [],
   "source": [
    "fileReading = open('codeBlocks/access.json' , 'rb' )\n",
    "credentials = js.load(fileReading)\n",
    "fileReading.close()\n",
    "\n",
    "key = credentials.get('key')"
   ]
  },
  {
   "cell_type": "code",
   "execution_count": 6,
   "metadata": {},
   "outputs": [],
   "source": [
    "openai.api_key = key\n",
    "\n",
    "text = \"\"\" Porque es bueno usar un control de versiones en \n",
    "el codigo de un proyecto ML?\n",
    "\"\"\""
   ]
  },
  {
   "cell_type": "code",
   "execution_count": 7,
   "metadata": {},
   "outputs": [],
   "source": [
    "response = openai.Completion.create(\n",
    "  model=\"text-davinci-003\",\n",
    "  prompt=text,\n",
    "  temperature=0.7,\n",
    "  max_tokens=256,\n",
    "  top_p=1,\n",
    "  frequency_penalty=0,\n",
    "  presence_penalty=0\n",
    ")"
   ]
  },
  {
   "cell_type": "code",
   "execution_count": 8,
   "metadata": {},
   "outputs": [
    {
     "data": {
      "text/plain": [
       "<OpenAIObject text_completion id=cmpl-6xO18A7pJs4CgPZkNsAug2j9vLb2e at 0x185ff8b9270> JSON: {\n",
       "  \"choices\": [\n",
       "    {\n",
       "      \"finish_reason\": \"stop\",\n",
       "      \"index\": 0,\n",
       "      \"logprobs\": null,\n",
       "      \"text\": \"\\nUn control de versiones es una herramienta muy \\u00fatil para el desarrollo de proyectos de aprendizaje autom\\u00e1tico. Esto ayuda a garantizar que los cambios realizados en el c\\u00f3digo sean seguros y controlados. Esto significa que puede rastrear los cambios realizados al c\\u00f3digo y volver a versiones anteriores si algo sale mal. Tambi\\u00e9n facilita la colaboraci\\u00f3n entre los miembros del equipo ya que pueden ver qui\\u00e9n ha hecho qu\\u00e9 cambios. Finalmente, un control de versiones tambi\\u00e9n permite el control de la configuraci\\u00f3n del sistema, lo que garantiza que todos los miembros del equipo est\\u00e9n trabajando con la misma versi\\u00f3n de todos los componentes del proyecto.\"\n",
       "    }\n",
       "  ],\n",
       "  \"created\": 1679611694,\n",
       "  \"id\": \"cmpl-6xO18A7pJs4CgPZkNsAug2j9vLb2e\",\n",
       "  \"model\": \"text-davinci-003\",\n",
       "  \"object\": \"text_completion\",\n",
       "  \"usage\": {\n",
       "    \"completion_tokens\": 219,\n",
       "    \"prompt_tokens\": 27,\n",
       "    \"total_tokens\": 246\n",
       "  }\n",
       "}"
      ]
     },
     "execution_count": 8,
     "metadata": {},
     "output_type": "execute_result"
    }
   ],
   "source": [
    "response"
   ]
  },
  {
   "cell_type": "code",
   "execution_count": 9,
   "metadata": {},
   "outputs": [
    {
     "data": {
      "text/plain": [
       "'\\nUn control de versiones es una herramienta muy útil para el desarrollo de proyectos de aprendizaje automático. Esto ayuda a garantizar que los cambios realizados en el código sean seguros y controlados. Esto significa que puede rastrear los cambios realizados al código y volver a versiones anteriores si algo sale mal. También facilita la colaboración entre los miembros del equipo ya que pueden ver quién ha hecho qué cambios. Finalmente, un control de versiones también permite el control de la configuración del sistema, lo que garantiza que todos los miembros del equipo estén trabajando con la misma versión de todos los componentes del proyecto.'"
      ]
     },
     "execution_count": 9,
     "metadata": {},
     "output_type": "execute_result"
    }
   ],
   "source": [
    "response.choices[0].text"
   ]
  },
  {
   "attachments": {},
   "cell_type": "markdown",
   "metadata": {},
   "source": [
    "___"
   ]
  },
  {
   "cell_type": "code",
   "execution_count": 10,
   "metadata": {},
   "outputs": [
    {
     "data": {
      "text/plain": [
       "'\\nUn entorno virtual venv es una herramienta útil para desarrolladores de ML ya que proporciona un entorno aislado para el desarrollo de cada proyecto. Esto permite a cada proyecto tener su propio conjunto de dependencias y librerías específicas, lo que facilita el mantenimiento y el desarrollo. Además, los entornos virtuales ayudan a prevenir conflictos entre diferentes versiones de librerías y dependencias. Si bien los entornos virtuales venv no son necesarios para desarrollar un proyecto de ML, pueden ser una herramienta útil para asegurar que los proyectos sean más estables y fáciles de mantener.'"
      ]
     },
     "execution_count": 10,
     "metadata": {},
     "output_type": "execute_result"
    }
   ],
   "source": [
    "text = \"\"\" Porque es bueno usar un entorno virtual venv al iniciar un \n",
    "proyecto de ML\n",
    "\"\"\"\n",
    "\n",
    "response = openai.Completion.create(\n",
    "  model=\"text-davinci-003\",\n",
    "  prompt=text,\n",
    "  temperature=0.7,\n",
    "  max_tokens=256,\n",
    "  top_p=1,\n",
    "  frequency_penalty=0,\n",
    "  presence_penalty=0\n",
    ")\n",
    "\n",
    "response.choices[0].text"
   ]
  },
  {
   "cell_type": "code",
   "execution_count": 13,
   "metadata": {},
   "outputs": [
    {
     "data": {
      "text/plain": [
       "'\\n1. Realice una copia de seguridad de su base de datos Oracle actual.\\n2. Configure una conexión entre su base de datos Oracle y Azure SQL usando Oracle Data Integrator (ODI).\\n3. Utilice ODI para mover los datos de Oracle a Azure SQL.\\n4. Cree una nueva conexión entre Oracle y Azure SQL.\\n5. Utilice ODI para transferir todos los objetos de Oracle a Azure SQL, como tablas, índices y vistas.\\n6. Utilice ODI para transferir todos los procedimientos almacenados de Oracle a Azure SQL.\\n7. Realice pruebas para verificar el correcto funcionamiento de los procedimientos almacenados migrados a Azure SQL.\\n8. Desactive la conexión entre Oracle y Azure SQL para evitar cualquier problema de seguridad.'"
      ]
     },
     "execution_count": 13,
     "metadata": {},
     "output_type": "execute_result"
    }
   ],
   "source": [
    "text = \"\"\" Cuales son los pasos para una migración de oracle y ODI\n",
    "a azure SQL con todo y stored procedures\n",
    "\"\"\"\n",
    "\n",
    "response = openai.Completion.create(\n",
    "  model=\"text-davinci-003\",\n",
    "  prompt=text,\n",
    "  temperature=0.7,\n",
    "  max_tokens=256,\n",
    "  top_p=1,\n",
    "  frequency_penalty=0,\n",
    "  presence_penalty=0\n",
    ")\n",
    "\n",
    "response.choices[0].text"
   ]
  },
  {
   "cell_type": "code",
   "execution_count": 14,
   "metadata": {},
   "outputs": [
    {
     "data": {
      "text/plain": [
       "'\\nPara realizar una copia de seguridad de una base de datos Oracle, hay varias opciones disponibles. Una de ellas es utilizar el comando expdp (Export Database). Este comando genera un archivo de exportación que contiene toda la información necesaria para restaurar la base de datos, como tablas, índices, vistas, procedimientos almacenados, etc.\\n\\nOtra opción es utilizar el comando RMAN (Recovery Manager). Este comando permite crear una copia de seguridad completa de la base de datos, incluyendo todos los archivos de datos, archivos de control y archivos de red. Esta copia de seguridad se puede almacenar en un disco local o en un servidor remoto.\\n\\nAdemás, Oracle también ofrece una herramienta de copia de seguridad denominada Data Pump, que es una alternativa a expdp. Esta'"
      ]
     },
     "execution_count": 14,
     "metadata": {},
     "output_type": "execute_result"
    }
   ],
   "source": [
    "text = \"\"\" ¿Como realizar una copia de seguridad de su base de datos Oracle?\n",
    "\"\"\"\n",
    "\n",
    "response = openai.Completion.create(\n",
    "  model=\"text-davinci-003\",\n",
    "  prompt=text,\n",
    "  temperature=0.7,\n",
    "  max_tokens=256,\n",
    "  top_p=1,\n",
    "  frequency_penalty=0,\n",
    "  presence_penalty=0\n",
    ")\n",
    "\n",
    "response.choices[0].text"
   ]
  },
  {
   "cell_type": "code",
   "execution_count": 15,
   "metadata": {},
   "outputs": [],
   "source": [
    "with open('codeBlocks/chatHistory.txt', 'a') as file:\n",
    "    file.write(response.choices[0].text + '\\n'+ '-'*15)"
   ]
  },
  {
   "cell_type": "code",
   "execution_count": 17,
   "metadata": {},
   "outputs": [
    {
     "data": {
      "text/plain": [
       "'\\nPara guardar texto con acentos usando el método write() de Python, es necesario especificar el parámetro de codificación. Esto se hará de la siguiente manera:\\n\\n```\\nwith open(\"archivo.txt\", \"w\", encoding=\"utf8\") as archivo:\\n    archivo.write(\"Mi texto con acentos\")\\n```'"
      ]
     },
     "execution_count": 17,
     "metadata": {},
     "output_type": "execute_result"
    }
   ],
   "source": [
    "text = \"\"\" ¿Como salvo con write texto que tenga acentos? \n",
    "De momento salen caracteres raros. Muestrame el codigo\n",
    "\"\"\"\n",
    "\n",
    "response = openai.Completion.create(\n",
    "  model=\"text-davinci-003\",\n",
    "  prompt=text,\n",
    "  temperature=0.7,\n",
    "  max_tokens=256,\n",
    "  top_p=1,\n",
    "  frequency_penalty=0,\n",
    "  presence_penalty=0\n",
    ")\n",
    "\n",
    "response.choices[0].text"
   ]
  },
  {
   "cell_type": "code",
   "execution_count": 18,
   "metadata": {},
   "outputs": [],
   "source": [
    "with open('codeBlocks/chatHistory.txt', 'a', encoding=\"utf8\") as file:\n",
    "    file.write(response.choices[0].text + '\\n'+ '-'*15)"
   ]
  },
  {
   "attachments": {},
   "cell_type": "markdown",
   "metadata": {},
   "source": [
    "### 2. Entorno de desarollo\n",
    "* venv\n",
    "* git"
   ]
  },
  {
   "attachments": {},
   "cell_type": "markdown",
   "metadata": {},
   "source": [
    "##### 2.1 Creación del entorno virtual\n",
    "> python -m venv nombreEntorno\n",
    "\n",
    "Se activa con la intrucción\n",
    "> nombreEntorno/scripts/activate"
   ]
  },
  {
   "attachments": {},
   "cell_type": "markdown",
   "metadata": {},
   "source": [
    "##### 2.2 Creación del control de versiones con git\n",
    "\n",
    "Sentencia de creación\n",
    "> git init\n",
    "\n"
   ]
  },
  {
   "attachments": {},
   "cell_type": "markdown",
   "metadata": {},
   "source": [
    "### 3. Cuaderno de Jupyter\n",
    "* Cargar credenciales\n",
    "* Contruir peticiones\n",
    "* Almacenar las consultas"
   ]
  },
  {
   "attachments": {},
   "cell_type": "markdown",
   "metadata": {},
   "source": [
    "### 4. Refactorización del código\n",
    "* Mejora de codigo\n",
    "* Estructura funcional\n",
    "* Caso de uso"
   ]
  }
 ],
 "metadata": {
  "kernelspec": {
   "display_name": "env",
   "language": "python",
   "name": "python3"
  },
  "language_info": {
   "codemirror_mode": {
    "name": "ipython",
    "version": 3
   },
   "file_extension": ".py",
   "mimetype": "text/x-python",
   "name": "python",
   "nbconvert_exporter": "python",
   "pygments_lexer": "ipython3",
   "version": "3.9.13"
  },
  "orig_nbformat": 4
 },
 "nbformat": 4,
 "nbformat_minor": 2
}
