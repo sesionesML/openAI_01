{
 "cells": [
  {
   "cell_type": "code",
   "execution_count": 1,
   "metadata": {},
   "outputs": [],
   "source": [
    "import openai as ai\n",
    "import simplejson as js"
   ]
  },
  {
   "cell_type": "code",
   "execution_count": 2,
   "metadata": {},
   "outputs": [],
   "source": [
    "fileReading = open( './access.json' , 'rb' )\n",
    "credentials = js.load(fileReading)\n",
    "fileReading.close()"
   ]
  },
  {
   "cell_type": "code",
   "execution_count": 3,
   "metadata": {},
   "outputs": [],
   "source": [
    "ai.api_key = credentials.get('key')"
   ]
  },
  {
   "cell_type": "code",
   "execution_count": 4,
   "metadata": {},
   "outputs": [],
   "source": [
    "text = \"\"\"Hola\\nConsideras que es una buena practica usar git \n",
    "y entorno viertuales al inicio de un proyecto de ML? \n",
    "\"\"\""
   ]
  },
  {
   "cell_type": "code",
   "execution_count": 7,
   "metadata": {},
   "outputs": [],
   "source": [
    "response = ai.Completion.create(\n",
    "  model=\"text-davinci-003\",\n",
    "  prompt=text,\n",
    "  temperature=0.1,\n",
    "  max_tokens=256,\n",
    "  top_p=1,\n",
    "  frequency_penalty=0,\n",
    "  presence_penalty=0\n",
    ")"
   ]
  },
  {
   "cell_type": "code",
   "execution_count": 8,
   "metadata": {},
   "outputs": [
    {
     "data": {
      "text/plain": [
       "<OpenAIObject text_completion id=cmpl-6x80NTl5mfkTrZ8CrVZggmnoojggE at 0x21dd459cc70> JSON: {\n",
       "  \"choices\": [\n",
       "    {\n",
       "      \"finish_reason\": \"stop\",\n",
       "      \"index\": 0,\n",
       "      \"logprobs\": null,\n",
       "      \"text\": \"\\nAbsolutamente. Usar Git para el control de versiones y entornos virtuales para aislar el proyecto de ML es una excelente pr\\u00e1ctica. Esto ayuda a mantener el c\\u00f3digo organizado y asegurar que los resultados sean consistentes. Adem\\u00e1s, los entornos virtuales permiten a los desarrolladores probar y desarrollar c\\u00f3digo sin afectar el sistema operativo principal.\"\n",
       "    }\n",
       "  ],\n",
       "  \"created\": 1679550143,\n",
       "  \"id\": \"cmpl-6x80NTl5mfkTrZ8CrVZggmnoojggE\",\n",
       "  \"model\": \"text-davinci-003\",\n",
       "  \"object\": \"text_completion\",\n",
       "  \"usage\": {\n",
       "    \"completion_tokens\": 114,\n",
       "    \"prompt_tokens\": 39,\n",
       "    \"total_tokens\": 153\n",
       "  }\n",
       "}"
      ]
     },
     "execution_count": 8,
     "metadata": {},
     "output_type": "execute_result"
    }
   ],
   "source": [
    "response"
   ]
  },
  {
   "cell_type": "code",
   "execution_count": 9,
   "metadata": {},
   "outputs": [
    {
     "data": {
      "text/plain": [
       "'\\nAbsolutamente. Usar Git para el control de versiones y entornos virtuales para aislar el proyecto de ML es una excelente práctica. Esto ayuda a mantener el código organizado y asegurar que los resultados sean consistentes. Además, los entornos virtuales permiten a los desarrolladores probar y desarrollar código sin afectar el sistema operativo principal.'"
      ]
     },
     "execution_count": 9,
     "metadata": {},
     "output_type": "execute_result"
    }
   ],
   "source": [
    "response.choices[0].text"
   ]
  },
  {
   "cell_type": "code",
   "execution_count": null,
   "metadata": {},
   "outputs": [],
   "source": []
  },
  {
   "cell_type": "code",
   "execution_count": null,
   "metadata": {},
   "outputs": [],
   "source": []
  },
  {
   "cell_type": "code",
   "execution_count": null,
   "metadata": {},
   "outputs": [],
   "source": []
  },
  {
   "cell_type": "code",
   "execution_count": null,
   "metadata": {},
   "outputs": [],
   "source": []
  },
  {
   "cell_type": "code",
   "execution_count": null,
   "metadata": {},
   "outputs": [],
   "source": []
  },
  {
   "cell_type": "code",
   "execution_count": 12,
   "metadata": {},
   "outputs": [],
   "source": [
    "with open('chatHistory.txt', 'a') as file:\n",
    "    file.write(response.choices[0].text + '\\n'+ '-'*15)"
   ]
  },
  {
   "cell_type": "code",
   "execution_count": 20,
   "metadata": {},
   "outputs": [
    {
     "data": {
      "text/plain": [
       "'\\nAbsolutamente. Usar Git para controlar versiones y mantener un registro de todos los cambios realizados en cada paso del proyecto es una práctica común y recomendada en cualquier proyecto de Machine Learning. De esta manera, se puede rastrear los cambios y entender mejor cómo se llegó a un resultado determinado. Además, los entornos virtuales proporcionan un espacio aislado para desarrollar y probar el código, lo que garantiza que los resultados sean consistentes.'"
      ]
     },
     "execution_count": 20,
     "metadata": {},
     "output_type": "execute_result"
    }
   ],
   "source": [
    "response.choices[0].text"
   ]
  },
  {
   "attachments": {},
   "cell_type": "markdown",
   "metadata": {},
   "source": [
    "___"
   ]
  },
  {
   "cell_type": "code",
   "execution_count": 13,
   "metadata": {},
   "outputs": [
    {
     "data": {
      "text/plain": [
       "'\\nPara corregir esto, hay que codificar el archivo a UTF-8. Esto se puede hacer al abrir el archivo con el parámetro \"encoding=\"utf-8\" al momento de hacer la llamada a la función open(), como se muestra a continuación:\\n\\nwith open(\"myfile.txt\", \"w\", encoding=\"utf-8\") as file:\\n    file.write(\"Aquí se escribe el contenido con acentos.\")'"
      ]
     },
     "execution_count": 13,
     "metadata": {},
     "output_type": "execute_result"
    }
   ],
   "source": [
    "text = \"\"\"Los registros guardado con file.write en un txt con python\n",
    "no reconocen los acentos, como lo corrijo?\n",
    "\"\"\"\n",
    "\n",
    "response = ai.Completion.create(\n",
    "  model=\"text-davinci-003\",\n",
    "  prompt=text,\n",
    "  temperature=0.7,\n",
    "  max_tokens=256,\n",
    "  top_p=1,\n",
    "  frequency_penalty=0,\n",
    "  presence_penalty=0\n",
    ")\n",
    "\n",
    "response.choices[0].text"
   ]
  },
  {
   "cell_type": "code",
   "execution_count": 16,
   "metadata": {},
   "outputs": [],
   "source": [
    "with open('chatHistory.txt', 'a', encoding=\"utf-8\") as file:\n",
    "    file.write(response.choices[0].text + '\\n'+ '-'*20 + '\\n')"
   ]
  },
  {
   "attachments": {},
   "cell_type": "markdown",
   "metadata": {},
   "source": [
    "___"
   ]
  },
  {
   "cell_type": "code",
   "execution_count": 17,
   "metadata": {},
   "outputs": [
    {
     "data": {
      "text/plain": [
       "'\\nPara retirar un archivo de la zona de staging en Git, puedes usar el comando git reset:\\n\\ngit reset <archivo>'"
      ]
     },
     "execution_count": 17,
     "metadata": {},
     "output_type": "execute_result"
    }
   ],
   "source": [
    "text = \"\"\"Como retiro un archivo traqueado de la sona de staging en git?\n",
    "\"\"\"\n",
    "\n",
    "response = ai.Completion.create(\n",
    "  model=\"text-davinci-003\",\n",
    "  prompt=text,\n",
    "  temperature=0.7,\n",
    "  max_tokens=256,\n",
    "  top_p=1,\n",
    "  frequency_penalty=0,\n",
    "  presence_penalty=0\n",
    ")\n",
    "\n",
    "response.choices[0].text"
   ]
  },
  {
   "cell_type": "code",
   "execution_count": null,
   "metadata": {},
   "outputs": [],
   "source": []
  }
 ],
 "metadata": {
  "kernelspec": {
   "display_name": "env",
   "language": "python",
   "name": "python3"
  },
  "language_info": {
   "codemirror_mode": {
    "name": "ipython",
    "version": 3
   },
   "file_extension": ".py",
   "mimetype": "text/x-python",
   "name": "python",
   "nbconvert_exporter": "python",
   "pygments_lexer": "ipython3",
   "version": "3.9.13"
  },
  "orig_nbformat": 4
 },
 "nbformat": 4,
 "nbformat_minor": 2
}
